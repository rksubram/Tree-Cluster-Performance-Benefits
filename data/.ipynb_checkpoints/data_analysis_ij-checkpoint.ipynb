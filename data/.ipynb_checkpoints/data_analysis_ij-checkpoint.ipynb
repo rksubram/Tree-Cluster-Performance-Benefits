{
 "cells": [
  {
   "cell_type": "code",
   "execution_count": 1,
   "metadata": {},
   "outputs": [],
   "source": [
    "import numpy as np\n",
    "import pandas as pd\n",
    "import matplotlib.pyplot as plt"
   ]
  },
  {
   "cell_type": "code",
   "execution_count": 84,
   "metadata": {},
   "outputs": [],
   "source": [
    "data_path = 'all_data.csv'"
   ]
  },
  {
   "cell_type": "code",
   "execution_count": 89,
   "metadata": {},
   "outputs": [],
   "source": [
    "def split_data(data_path, seed = 43, train_val_test_split = (80,10,10)):\n",
    "    data = pd.read_csv(data_path).T\n",
    "    data = data.reset_index()\n",
    "    data.columns = data.iloc[0]\n",
    "    data = data.iloc[1:]\n",
    "    data.rename(columns={ data.columns[0]: \"Participant\" }, inplace=True)\n",
    "    \n",
    "    indices = np.arange(len(data))\n",
    "    np.random.seed(seed)\n",
    "    np.random.shuffle(indices)\n",
    "    train_indices = indices[:train_val_test_split[0]*len(indices)//100]\n",
    "    val_indices = indices[train_val_test_split[0]*len(indices)//100:train_val_test_split[0]*len(indices)//100\\\n",
    "                          + train_val_test_split[1]*len(indices)//100]\n",
    "    test_indices = indices[train_val_test_split[0]*len(indices)//100+ train_val_test_split[1]*len(indices)//100:]\n",
    "    \n",
    "    return data.iloc[train_indices], data.iloc[val_indices], data.iloc[test_indices]\n"
   ]
  },
  {
   "cell_type": "code",
   "execution_count": 90,
   "metadata": {},
   "outputs": [],
   "source": [
    "train_data, val_data, test_data = split_data(data_path)"
   ]
  },
  {
   "cell_type": "code",
   "execution_count": 131,
   "metadata": {},
   "outputs": [],
   "source": [
    "def feature_correlation(data):\n",
    "    data = data[data.columns[1:]].reset_index()[data.columns[1:]].astype(float)\n",
    "    data.columns = np.arange(data.shape[1])\n",
    "    return data.corr()"
   ]
  },
  {
   "cell_type": "code",
   "execution_count": null,
   "metadata": {},
   "outputs": [],
   "source": [
    "print(feature_correlation(train_data))"
   ]
  }
 ],
 "metadata": {
  "kernelspec": {
   "display_name": "Python 3",
   "language": "python",
   "name": "python3"
  },
  "language_info": {
   "codemirror_mode": {
    "name": "ipython",
    "version": 3
   },
   "file_extension": ".py",
   "mimetype": "text/x-python",
   "name": "python",
   "nbconvert_exporter": "python",
   "pygments_lexer": "ipython3",
   "version": "3.6.3"
  }
 },
 "nbformat": 4,
 "nbformat_minor": 2
}
