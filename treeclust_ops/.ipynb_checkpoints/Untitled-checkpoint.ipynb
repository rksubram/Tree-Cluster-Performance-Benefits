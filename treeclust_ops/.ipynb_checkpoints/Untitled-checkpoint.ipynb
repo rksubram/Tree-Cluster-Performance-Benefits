{
 "cells": [
  {
   "cell_type": "code",
   "execution_count": 1,
   "metadata": {},
   "outputs": [],
   "source": [
    "from TreeCluster import *\n",
    "from treeswift import read_tree_newick\n",
    "from scipy.optimize import minimize\n",
    "import sys\n",
    "import numpy as np"
   ]
  },
  {
   "cell_type": "code",
   "execution_count": 3,
   "metadata": {},
   "outputs": [],
   "source": [
    "max_iter = 45"
   ]
  },
  {
   "cell_type": "code",
   "execution_count": 4,
   "metadata": {},
   "outputs": [],
   "source": [
    "class StopGridSearch( Exception ):\n",
    "    pass\n",
    "class StopFineGridSearch( Exception ):\n",
    "    pass"
   ]
  },
  {
   "cell_type": "code",
   "execution_count": 18,
   "metadata": {},
   "outputs": [],
   "source": [
    "'''\n",
    "tree_file=\"phylogeny.nwk\"\n",
    "threshold_val=0.57\n",
    "threshold_free=None\n",
    "method='avg_clade'\n",
    "support=float('-inf')\n",
    "expected_num_clusters= 1000\n",
    "'''\n",
    "\n",
    "def someiter_search(tree_file=\"phylogeny.nwk\",threshold_val=0.57,threshold_free=None,method='avg_clade',support=float('-inf'),expected_num_clusters= 1000,max_iter = 10):\n",
    "    def precal_GridSearch(threshold, tree_file=tree_file, threshold_free=threshold_free, method=method, support=support):\n",
    "        cluster = run_TreeCluster(threshold=threshold_val, tree_file=tree_file, threshold_free=threshold_free, method=method, support=support)\n",
    "        loss = expected_num_clusters-len(cluster)\n",
    "        grad = 0.1 * pow(10,-len(str(loss)))\n",
    "        min_loss= expected_num_clusters\n",
    "\n",
    "        return loss,grad,min_loss\n",
    "\n",
    "    def GridSearch(loss,grad,min_loss,threshold, tree_file=tree_file, threshold_free=threshold_free, method=method, support=support):\n",
    "        threshold_vals= [threshold]\n",
    "        loss_vals = [loss]\n",
    "        current_grad = [grad]\n",
    "        i=1\n",
    "        best_val = threshold\n",
    "        curr_loss= loss\n",
    "        print(\"Iteration : \", 0, \" Loss: \", loss, \" Threshold_val:\", threshold)\n",
    "        try:\n",
    "            while(i<=max_iter+1):\n",
    "                curr_grad = ( 0.1 * pow(10,-len(str(loss_vals[i-1]))) ) \n",
    "                #print(curr_grad)\n",
    "                curr_val = threshold_vals[i-1] - (grad*curr_loss)*np.sign(grad*loss)\n",
    "                if curr_val<0:\n",
    "                    raise StopGridSearch\n",
    "                    curr_val = best_val\n",
    "                    min_loss = loss_vals[i]\n",
    "                curr_loss = abs(expected_num_clusters-len(run_TreeCluster(threshold=curr_val, tree_file=tree_file, threshold_free=threshold_free, method=method, support=support)))\n",
    "                threshold_vals.append(curr_val)\n",
    "                loss_vals.append(curr_loss)\n",
    "                #print(loss_vals[i], min_loss)\n",
    "                if loss_vals[i] < min_loss:\n",
    "                    min_loss = loss_vals[i] \n",
    "                    best_val = curr_val\n",
    "        \n",
    "                #print(\" Iteration : \", i, \" Loss: \", curr_loss, \" Threshold_val:\", curr_val, \"Min_loss:\",min_loss )\n",
    "         \n",
    "                i+=1\n",
    "        \n",
    "        except StopGridSearch:\n",
    "            pass\n",
    "        \n",
    "        return best_val, min_loss\n",
    "    \n",
    "\n",
    "\n",
    "    j=0\n",
    "    \n",
    "    while j<=max_iter:\n",
    "        if j==0:\n",
    "            loss,grad,min_loss = precal_GridSearch(threshold=threshold_val, tree_file=tree_file, threshold_free=threshold_free, method=method, support=support)\n",
    "            best_min_loss = min_loss\n",
    "            curr_threshold_val = threshold_val\n",
    "            best_threshold_val = threshold_val\n",
    "        else:\n",
    "            curr_threshold_val, min_loss = GridSearch(loss,grad,min_loss,threshold=curr_threshold_val, tree_file=tree_file, threshold_free=threshold_free, method=method, support=support)\n",
    "            grad = min_loss * ( 0.1 * pow(10,-len(str(min_loss))) ) * pow(.1,j)\n",
    "            loss = min_loss\n",
    "            if loss< best_min_loss:\n",
    "                best_min_loss= min_loss\n",
    "                best_threshold_val = curr_threshold_val\n",
    "        \n",
    "        #print(\"ITER:\",j, \" Loss: \", best_min_loss, \" Threshold_val:\", best_threshold_val)\n",
    "        j+=1\n",
    "       \n",
    "    return best_min_loss, best_threshold_val"
   ]
  },
  {
   "cell_type": "code",
   "execution_count": null,
   "metadata": {},
   "outputs": [
    {
     "name": "stdout",
     "output_type": "stream",
     "text": [
      "Iteration :  0  Loss:  776  Threshold_val: 0.2809180594426881\n",
      "Iteration :  0  Loss:  30  Threshold_val: 0.0831180594426881\n",
      "Iteration :  0  Loss:  30  Threshold_val: 0.0831180594426881\n",
      "Iteration :  0  Loss:  30  Threshold_val: 0.0831180594426881\n",
      "Iteration :  0  Loss:  30  Threshold_val: 0.0831180594426881\n",
      "Iteration :  0  Loss:  30  Threshold_val: 0.0831180594426881\n",
      "Iteration :  0  Loss:  30  Threshold_val: 0.0831180594426881\n"
     ]
    }
   ],
   "source": [
    "for val in list(np.random.uniform(0,1,20)):\n",
    "    loss = expected_num_clusters\n",
    "    best_min_loss, best_threshold_val = someiter_search(tree_file=\"phylogeny.nwk\",threshold_val=val,threshold_free=None,method='avg_clade',support=float('-inf'),expected_num_clusters= 1000,max_iter = 10)\n",
    "    if loss< best_min_loss:\n",
    "                best_min_loss= min_loss\n",
    "                best_threshold_val = curr_threshold_val\n",
    "            \n",
    "    \n",
    "    print(\"REAL ITER:\",list(np.random.uniform(0,1,20)).index(val)+1, \" Loss: \", best_min_loss, \" Threshold_val:\", best_threshold_val)\n",
    "    \n",
    "        "
   ]
  },
  {
   "cell_type": "code",
   "execution_count": 16,
   "metadata": {},
   "outputs": [
    {
     "name": "stdout",
     "output_type": "stream",
     "text": [
      "0.0821999999999999\n"
     ]
    }
   ],
   "source": [
    "print(best_threshold_val)"
   ]
  },
  {
   "cell_type": "code",
   "execution_count": 17,
   "metadata": {},
   "outputs": [
    {
     "data": {
      "text/plain": [
       "1038"
      ]
     },
     "execution_count": 17,
     "metadata": {},
     "output_type": "execute_result"
    }
   ],
   "source": [
    "len(run_TreeCluster(threshold=best_threshold_val, tree_file=tree_file, threshold_free=threshold_free, method=method, support=support))"
   ]
  },
  {
   "cell_type": "code",
   "execution_count": null,
   "metadata": {},
   "outputs": [],
   "source": []
  }
 ],
 "metadata": {
  "kernelspec": {
   "display_name": "Python 3",
   "language": "python",
   "name": "python3"
  },
  "language_info": {
   "codemirror_mode": {
    "name": "ipython",
    "version": 3
   },
   "file_extension": ".py",
   "mimetype": "text/x-python",
   "name": "python",
   "nbconvert_exporter": "python",
   "pygments_lexer": "ipython3",
   "version": "3.6.3"
  }
 },
 "nbformat": 4,
 "nbformat_minor": 2
}
