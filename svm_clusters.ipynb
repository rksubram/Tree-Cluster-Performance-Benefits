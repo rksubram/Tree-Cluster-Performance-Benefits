{
 "cells": [
  {
   "cell_type": "code",
   "execution_count": 3,
   "metadata": {},
   "outputs": [],
   "source": [
    "import numpy as np\n",
    "import pandas as pd\n",
    "import matplotlib.pyplot as plt"
   ]
  },
  {
   "cell_type": "markdown",
   "metadata": {},
   "source": [
    "## Loading data:"
   ]
  },
  {
   "cell_type": "code",
   "execution_count": 4,
   "metadata": {},
   "outputs": [],
   "source": [
    "data = pd.read_csv('data/all_data.csv').T\n",
    "labels = pd.read_csv('data/labels.csv')"
   ]
  },
  {
   "cell_type": "markdown",
   "metadata": {},
   "source": [
    "## Preprocessing indexes:"
   ]
  },
  {
   "cell_type": "code",
   "execution_count": 5,
   "metadata": {},
   "outputs": [],
   "source": [
    "labels.drop('type_sample', axis=1, inplace=True)\n",
    "labels = labels.reset_index(drop=True)\n",
    "labels.rename(columns={ labels.columns[0]: \"Participant\" }, inplace=True)\n",
    "labels.IBD = labels.IBD.astype('bool')\n",
    "\n",
    "data = data.reset_index()\n",
    "data.columns = data.iloc[0]\n",
    "data = data.iloc[1:]\n",
    "data = data.reset_index(drop=True)\n",
    "data.rename(columns={ data.columns[0]: \"Participant\" }, inplace=True)"
   ]
  },
  {
   "cell_type": "code",
   "execution_count": 6,
   "metadata": {},
   "outputs": [],
   "source": [
    "def split_data(data, seed = 43, train_val_test_split = (80,10,10)):\n",
    "    indices = np.arange(len(data))\n",
    "    np.random.seed(seed)\n",
    "    np.random.shuffle(indices)\n",
    "    train_indices = indices[:train_val_test_split[0]*len(indices)//100]\n",
    "    val_indices = indices[train_val_test_split[0]*len(indices)//100:train_val_test_split[0]*len(indices)//100\\\n",
    "                          + train_val_test_split[1]*len(indices)//100]\n",
    "    test_indices = indices[train_val_test_split[0]*len(indices)//100+ train_val_test_split[1]*len(indices)//100:]\n",
    "    \n",
    "    return data.iloc[train_indices], data.iloc[val_indices], data.iloc[test_indices]"
   ]
  },
  {
   "cell_type": "code",
   "execution_count": 7,
   "metadata": {},
   "outputs": [],
   "source": [
    "train_data, val_data, test_data = split_data(data)\n",
    "train_labels, val_labels, test_labels = split_data(labels)"
   ]
  },
  {
   "cell_type": "markdown",
   "metadata": {},
   "source": [
    "## SVM"
   ]
  },
  {
   "cell_type": "code",
   "execution_count": 8,
   "metadata": {},
   "outputs": [],
   "source": [
    "def svec(my_data, labels, weight = 1, print_stats = True):\n",
    "    \n",
    "    from sklearn.svm import SVC\n",
    "    from sklearn.metrics import classification_report, confusion_matrix, roc_auc_score\n",
    "\n",
    "    \n",
    "    clf = SVC(kernel='poly', degree=2).fit(my_data[0], labels[0]['IBD'])\n",
    "    train_acc = clf.score(my_data[0], labels[0]['IBD'])\n",
    "    val_acc = clf.score(my_data[1], labels[1]['IBD'])\n",
    "    \n",
    "    if print_stats:\n",
    "        print('Training accuracy: ', train_acc)\n",
    "        print('Validation accuracy: ',val_acc)\n",
    "        \n",
    "        train_pred = clf.predict(my_data[0])\n",
    "        val_pred = clf.predict(my_data[1])\n",
    "\n",
    "        print(\"Training Statistics\")\n",
    "        print(\"ROC score = {}\".format(roc_auc_score(labels[0]['IBD'], train_pred)))\n",
    "        print(\"\\nClassification Report:\") \n",
    "        print(classification_report(labels[0]['IBD'], train_pred))\n",
    "        print(\"\\nConfusion Matrix:\")\n",
    "        print(confusion_matrix(labels[0]['IBD'], train_pred))\n",
    "        print(\"\")\n",
    "        print(\"\")\n",
    "        print(\"Validation Statistics\")\n",
    "        print(\"ROC score = {}\".format(roc_auc_score(labels[1]['IBD'], val_pred)))\n",
    "        print(\"\\nClassification Report:\") \n",
    "        print(classification_report(labels[1]['IBD'], val_pred))\n",
    "        print(\"\\nConfusion Matrix:\")\n",
    "        print(confusion_matrix(labels[1]['IBD'], val_pred))\n",
    "    \n",
    "    return train_acc, val_acc\n",
    "    \n",
    "\n",
    "\n",
    "    \n",
    "# clf = LogisticRegression(C = 1, random_state=0, solver='liblinear',\\\n",
    "#                          multi_class='ovr').fit(train_data.iloc[:, 1:], train_labels['IBD'])\n"
   ]
  },
  {
   "cell_type": "code",
   "execution_count": 9,
   "metadata": {},
   "outputs": [
    {
     "name": "stdout",
     "output_type": "stream",
     "text": [
      "Training accuracy:  1.0\n",
      "Validation accuracy:  0.7752808988764045\n",
      "Training Statistics\n",
      "ROC score = 1.0\n",
      "\n",
      "Classification Report:\n",
      "             precision    recall  f1-score   support\n",
      "\n",
      "      False       1.00      1.00      1.00       187\n",
      "       True       1.00      1.00      1.00       525\n",
      "\n",
      "avg / total       1.00      1.00      1.00       712\n",
      "\n",
      "\n",
      "Confusion Matrix:\n",
      "[[187   0]\n",
      " [  0 525]]\n",
      "\n",
      "\n",
      "Validation Statistics\n",
      "ROC score = 0.6944444444444444\n",
      "\n",
      "Classification Report:\n",
      "             precision    recall  f1-score   support\n",
      "\n",
      "      False       0.65      0.50      0.57        26\n",
      "       True       0.81      0.89      0.85        63\n",
      "\n",
      "avg / total       0.76      0.78      0.77        89\n",
      "\n",
      "\n",
      "Confusion Matrix:\n",
      "[[13 13]\n",
      " [ 7 56]]\n"
     ]
    },
    {
     "data": {
      "text/plain": [
       "(1.0, 0.7752808988764045)"
      ]
     },
     "execution_count": 9,
     "metadata": {},
     "output_type": "execute_result"
    }
   ],
   "source": [
    "svec((train_data.iloc[:,1:],val_data.iloc[:,1:]), (train_labels, val_labels))"
   ]
  },
  {
   "cell_type": "code",
   "execution_count": 10,
   "metadata": {},
   "outputs": [],
   "source": [
    "train_accuracy = []\n",
    "val_accuracy = []\n",
    "\n",
    "for i in range(11):\n",
    "    weight = 1/(10**i)\n",
    "    t,v = svec((train_data.iloc[:,1:],val_data.iloc[:,1:]), (train_labels, val_labels), weight, False)\n",
    "    train_accuracy.append(t)\n",
    "    val_accuracy.append(v)\n"
   ]
  },
  {
   "cell_type": "code",
   "execution_count": 11,
   "metadata": {
    "scrolled": false
   },
   "outputs": [
    {
     "data": {
      "text/plain": [
       "[Text(0,0.5,'Accuracy'), Text(0.5,0,'Regularization Strength')]"
      ]
     },
     "execution_count": 11,
     "metadata": {},
     "output_type": "execute_result"
    },
    {
     "data": {
      "image/png": "[encoded data removed]",
      "text/plain": [
       "<Figure size 864x576 with 1 Axes>"
      ]
     },
     "metadata": {},
     "output_type": "display_data"
    }
   ],
   "source": [
    "plt.rcParams[\"figure.figsize\"] = (12,8)\n",
    "import seaborn as sns\n",
    "sns.set(style=\"darkgrid\")\n",
    "ax = sns.lineplot(list(range(11)),train_accuracy, label = 'train')\n",
    "sns.lineplot(list(range(11)),val_accuracy, label = 'validation')\n",
    "ax.set(xlabel='Regularization Strength', ylabel='Accuracy')\n"
   ]
  },
  {
   "cell_type": "code",
   "execution_count": 80,
   "metadata": {},
   "outputs": [],
   "source": [
    "# def feature_correlation(data):\n",
    "#     data = data[data.columns[1:]].reset_index()[data.columns[1:]].astype(float)\n",
    "#     data.columns = np.arange(data.shape[1])\n",
    "#     return data.corr()"
   ]
  },
  {
   "cell_type": "code",
   "execution_count": null,
   "metadata": {},
   "outputs": [],
   "source": [
    "# fasta_file = 'dna-fragments.fasta'\n",
    "\n",
    "# fasta_dict = dict()\n",
    "\n",
    "# with open(fasta_file) as file:\n",
    "#     for i, line in enumerate(file):\n",
    "#         if i%2 == 0:\n",
    "#             fragment = line[1:-1]\n",
    "#         else:\n",
    "#             fasta_dict[fragment] = line[:-1]\n",
    "\n",
    "# np.save('fasta_dict.npy', fasta_dict)"
   ]
  },
  {
   "cell_type": "code",
   "execution_count": null,
   "metadata": {},
   "outputs": [],
   "source": [
    "# max, sum_branch, single_linkage"
   ]
  },
  {
   "cell_type": "code",
   "execution_count": 178,
   "metadata": {
    "scrolled": true
   },
   "outputs": [],
   "source": [
    "#clusters\n",
    "fasta_dict = np.load('fasta_dict.npy').item()\n",
    "\n",
    "cluster_file = './clusters/clusters_single_linkage_10.csv'\n",
    "clusters = pd.read_csv(cluster_file, sep='\\t')\n",
    "\n",
    "total_clusters = np.max(clusters['ClusterNumber'])\n",
    "\n",
    "clustered_data = []\n",
    "cluster_size = [0]\n",
    "\n",
    "for i in range(1,total_clusters+1):\n",
    "    cluster_size.append(cluster_size[i-1]+len(clusters[clusters['ClusterNumber'] == i]))\n",
    "    clustered_data.append(data[[fasta_dict[c] for c in clusters[clusters['ClusterNumber'] == i]['SequenceName'].values]])\n",
    "    \n",
    "    \n",
    "\n",
    "single_data = data[[fasta_dict[c] for c in clusters[clusters['ClusterNumber'] == -1]['SequenceName'].values]]\n"
   ]
  },
  {
   "cell_type": "code",
   "execution_count": 179,
   "metadata": {},
   "outputs": [],
   "source": [
    "clustered_data.append(single_data)\n",
    "cluster_size += list(range(cluster_size[-1],single_data.shape[1]+cluster_size[-1]))"
   ]
  },
  {
   "cell_type": "code",
   "execution_count": 180,
   "metadata": {},
   "outputs": [],
   "source": [
    "clustered_data = pd.concat(clustered_data, axis = 1)"
   ]
  },
  {
   "cell_type": "code",
   "execution_count": 181,
   "metadata": {},
   "outputs": [],
   "source": [
    "train_data, val_data, test_data = split_data(clustered_data)\n",
    "train_labels, val_labels, test_labels = split_data(labels)"
   ]
  },
  {
   "cell_type": "markdown",
   "metadata": {},
   "source": [
    "## PCA"
   ]
  },
  {
   "cell_type": "markdown",
   "metadata": {},
   "source": [
    "## Standardization\n"
   ]
  },
  {
   "cell_type": "code",
   "execution_count": 182,
   "metadata": {},
   "outputs": [],
   "source": [
    "from sklearn.preprocessing import StandardScaler\n",
    "scalar = StandardScaler()\n",
    "scalar.fit(train_data)\n",
    "\n",
    "train_norm = scalar.transform(train_data)\n",
    "val_norm = scalar.transform(val_data)\n",
    "test_norm = scalar.transform(test_data)\n",
    "# train_norm = train_data\n",
    "# val_norm = val_data\n",
    "# test_norm = test_data"
   ]
  },
  {
   "cell_type": "code",
   "execution_count": 142,
   "metadata": {},
   "outputs": [],
   "source": [
    "# variance to account for\n",
    "\n",
    "variance = 0.95\n",
    "from sklearn.decomposition import PCA\n",
    "# Make an instance of the Model\n",
    "pca = PCA(n_components = 1)\n",
    "# pca.fit(train_norm)"
   ]
  },
  {
   "cell_type": "code",
   "execution_count": 43,
   "metadata": {},
   "outputs": [
    {
     "data": {
      "text/plain": [
       "(712, 10072)"
      ]
     },
     "execution_count": 43,
     "metadata": {},
     "output_type": "execute_result"
    }
   ],
   "source": [
    "train_norm.shape"
   ]
  },
  {
   "cell_type": "code",
   "execution_count": 184,
   "metadata": {},
   "outputs": [
    {
     "name": "stdout",
     "output_type": "stream",
     "text": [
      "1\n",
      "3\n",
      "4\n",
      "5\n",
      "6\n",
      "7\n"
     ]
    }
   ],
   "source": [
    "for i in range(1,len(cluster_size)):\n",
    "    \n",
    "    try:\n",
    "        pca.fit(train_norm[:,cluster_size[i-1]:cluster_size[i]])\n",
    "    except:\n",
    "        continue\n",
    "    print(i)\n",
    "    if i ==1:\n",
    "        pca_train_norm = pca.transform(train_norm[:,cluster_size[i-1]:cluster_size[i]])\n",
    "        pca_val_norm = pca.transform(val_norm[:,cluster_size[i-1]:cluster_size[i]])\n",
    "        pca_test_norm = pca.transform(test_norm[:,cluster_size[i-1]:cluster_size[i]])\n",
    "    else:\n",
    "        pca_train_norm = np.hstack((pca_train_norm, pca.transform(train_norm[:,cluster_size[i-1]:cluster_size[i]])))\n",
    "        pca_val_norm = np.hstack((pca_val_norm, pca.transform(val_norm[:,cluster_size[i-1]:cluster_size[i]])))\n",
    "        pca_test_norm = np.hstack((pca_test_norm, pca.transform(test_norm[:,cluster_size[i-1]:cluster_size[i]])))\n",
    "#     pca_train_norm.append(pca.transform(train_norm[:,cluster_size[i-1]:cluster_size[i]]))\n",
    "#     pca_val_norm.append(pca.transform(val_norm[:,cluster_size[i-1]:cluster_size[i]]))\n",
    "#     pca_test_norm.append(pca.transform(test_norm[:,cluster_size[i-1]:cluster_size[i]]))"
   ]
  },
  {
   "cell_type": "code",
   "execution_count": 482,
   "metadata": {},
   "outputs": [],
   "source": [
    "# 500, 100, 50, 25, 10"
   ]
  },
  {
   "cell_type": "code",
   "execution_count": 483,
   "metadata": {},
   "outputs": [],
   "source": [
    "# print(\"Number of feature vectors: \",pca.n_components_)"
   ]
  },
  {
   "cell_type": "code",
   "execution_count": 124,
   "metadata": {},
   "outputs": [],
   "source": [
    "# pca_train_norm = pca.transform(train_norm)\n",
    "# pca_val_norm = pca.transform(val_norm)\n",
    "# pca_test_norm = pca.transform(test_norm)"
   ]
  },
  {
   "cell_type": "code",
   "execution_count": 185,
   "metadata": {
    "scrolled": false
   },
   "outputs": [
    {
     "name": "stdout",
     "output_type": "stream",
     "text": [
      "Training accuracy:  0.7415730337078652\n",
      "Validation accuracy:  0.6966292134831461\n",
      "Training Statistics\n",
      "ROC score = 0.5097428062133945\n",
      "\n",
      "Classification Report:\n",
      "             precision    recall  f1-score   support\n",
      "\n",
      "      False       0.80      0.02      0.04       187\n",
      "       True       0.74      1.00      0.85       525\n",
      "\n",
      "avg / total       0.76      0.74      0.64       712\n",
      "\n",
      "\n",
      "Confusion Matrix:\n",
      "[[  4 183]\n",
      " [  1 524]]\n",
      "\n",
      "\n",
      "Validation Statistics\n",
      "ROC score = 0.49206349206349204\n",
      "\n",
      "Classification Report:\n",
      "             precision    recall  f1-score   support\n",
      "\n",
      "      False       0.00      0.00      0.00        26\n",
      "       True       0.70      0.98      0.82        63\n",
      "\n",
      "avg / total       0.50      0.70      0.58        89\n",
      "\n",
      "\n",
      "Confusion Matrix:\n",
      "[[ 0 26]\n",
      " [ 1 62]]\n"
     ]
    },
    {
     "data": {
      "text/plain": [
       "(0.7415730337078652, 0.6966292134831461)"
      ]
     },
     "execution_count": 185,
     "metadata": {},
     "output_type": "execute_result"
    }
   ],
   "source": [
    "# clf = LogisticRegression(C = 1, random_state=0, solver='liblinear',\\\n",
    "#                          multi_class='ovr').fit(train_data.iloc[:, 1:], train_labels['IBD'])\n",
    "\n",
    "svec((pca_train_norm,pca_val_norm), (train_labels, val_labels))"
   ]
  },
  {
   "cell_type": "code",
   "execution_count": 186,
   "metadata": {
    "scrolled": false
   },
   "outputs": [
    {
     "name": "stdout",
     "output_type": "stream",
     "text": [
      "Training accuracy:  0.7415730337078652\n",
      "Validation accuracy:  0.6629213483146067\n",
      "Training Statistics\n",
      "ROC score = 0.5097428062133945\n",
      "\n",
      "Classification Report:\n",
      "             precision    recall  f1-score   support\n",
      "\n",
      "      False       0.80      0.02      0.04       187\n",
      "       True       0.74      1.00      0.85       525\n",
      "\n",
      "avg / total       0.76      0.74      0.64       712\n",
      "\n",
      "\n",
      "Confusion Matrix:\n",
      "[[  4 183]\n",
      " [  1 524]]\n",
      "\n",
      "\n",
      "Validation Statistics\n",
      "ROC score = 0.5\n",
      "\n",
      "Classification Report:\n",
      "             precision    recall  f1-score   support\n",
      "\n",
      "      False       0.00      0.00      0.00        30\n",
      "       True       0.66      1.00      0.80        59\n",
      "\n",
      "avg / total       0.44      0.66      0.53        89\n",
      "\n",
      "\n",
      "Confusion Matrix:\n",
      "[[ 0 30]\n",
      " [ 0 59]]\n"
     ]
    },
    {
     "name": "stderr",
     "output_type": "stream",
     "text": [
      "/anaconda3/lib/python3.7/site-packages/sklearn/metrics/classification.py:1135: UndefinedMetricWarning: Precision and F-score are ill-defined and being set to 0.0 in labels with no predicted samples.\n",
      "  'precision', 'predicted', average, warn_for)\n"
     ]
    },
    {
     "data": {
      "text/plain": [
       "(0.7415730337078652, 0.6629213483146067)"
      ]
     },
     "execution_count": 186,
     "metadata": {},
     "output_type": "execute_result"
    }
   ],
   "source": [
    "svec((pca_train_norm,pca_test_norm), (train_labels, test_labels))"
   ]
  },
  {
   "cell_type": "code",
   "execution_count": null,
   "metadata": {},
   "outputs": [],
   "source": []
  }
 ],
 "metadata": {
  "kernelspec": {
   "display_name": "Python 3",
   "language": "python",
   "name": "python3"
  },
  "language_info": {
   "codemirror_mode": {
    "name": "ipython",
    "version": 3
   },
   "file_extension": ".py",
   "mimetype": "text/x-python",
   "name": "python",
   "nbconvert_exporter": "python",
   "pygments_lexer": "ipython3",
   "version": "3.7.2"
  }
 },
 "nbformat": 4,
 "nbformat_minor": 2
}
