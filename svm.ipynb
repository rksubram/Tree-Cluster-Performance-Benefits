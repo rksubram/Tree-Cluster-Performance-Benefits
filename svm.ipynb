{
 "cells": [
  {
   "cell_type": "code",
   "execution_count": 1,
   "metadata": {},
   "outputs": [],
   "source": [
    "import numpy as np\n",
    "import pandas as pd\n",
    "import matplotlib.pyplot as plt"
   ]
  },
  {
   "cell_type": "markdown",
   "metadata": {},
   "source": [
    "## Loading data:"
   ]
  },
  {
   "cell_type": "code",
   "execution_count": 2,
   "metadata": {},
   "outputs": [],
   "source": [
    "data = pd.read_csv('data/all_data.csv').T\n",
    "labels = pd.read_csv('data/labels.csv')"
   ]
  },
  {
   "cell_type": "markdown",
   "metadata": {},
   "source": [
    "## Preprocessing indexes:"
   ]
  },
  {
   "cell_type": "code",
   "execution_count": 3,
   "metadata": {},
   "outputs": [],
   "source": [
    "labels.drop('type_sample', axis=1, inplace=True)\n",
    "labels = labels.reset_index(drop=True)\n",
    "labels.rename(columns={ labels.columns[0]: \"Participant\" }, inplace=True)\n",
    "labels.IBD = labels.IBD.astype('bool')\n",
    "\n",
    "data = data.reset_index()\n",
    "data.columns = data.iloc[0]\n",
    "data = data.iloc[1:]\n",
    "data = data.reset_index(drop=True)\n",
    "data.rename(columns={ data.columns[0]: \"Participant\" }, inplace=True)"
   ]
  },
  {
   "cell_type": "markdown",
   "metadata": {},
   "source": [
    "## Train Val Test split:"
   ]
  },
  {
   "cell_type": "code",
   "execution_count": 4,
   "metadata": {},
   "outputs": [],
   "source": [
    "def split_data(data, seed = 43, train_val_test_split = (80,10,10)):\n",
    "    indices = np.arange(len(data))\n",
    "    np.random.seed(seed)\n",
    "    np.random.shuffle(indices)\n",
    "    train_indices = indices[:train_val_test_split[0]*len(indices)//100]\n",
    "    val_indices = indices[train_val_test_split[0]*len(indices)//100:train_val_test_split[0]*len(indices)//100\\\n",
    "                          + train_val_test_split[1]*len(indices)//100]\n",
    "    test_indices = indices[train_val_test_split[0]*len(indices)//100+ train_val_test_split[1]*len(indices)//100:]\n",
    "    \n",
    "    return data.iloc[train_indices], data.iloc[val_indices], data.iloc[test_indices]"
   ]
  },
  {
   "cell_type": "code",
   "execution_count": 5,
   "metadata": {},
   "outputs": [],
   "source": [
    "train_data, val_data, test_data = split_data(data)\n",
    "train_labels, val_labels, test_labels = split_data(labels)"
   ]
  },
  {
   "cell_type": "markdown",
   "metadata": {},
   "source": [
    "## Linear SVM "
   ]
  },
  {
   "cell_type": "code",
   "execution_count": 6,
   "metadata": {},
   "outputs": [
    {
     "data": {
      "text/plain": [
       "SVC(C=1.0, cache_size=200, class_weight=None, coef0=0.0,\n",
       "  decision_function_shape='ovr', degree=3, gamma='auto', kernel='linear',\n",
       "  max_iter=-1, probability=False, random_state=None, shrinking=True,\n",
       "  tol=0.001, verbose=False)"
      ]
     },
     "execution_count": 6,
     "metadata": {},
     "output_type": "execute_result"
    }
   ],
   "source": [
    "from sklearn.svm import SVC\n",
    "\n",
    "svclassifier = SVC(kernel='linear')\n",
    "svclassifier.fit(train_data.iloc[:, 1:], train_labels['IBD'])"
   ]
  },
  {
   "cell_type": "code",
   "execution_count": 7,
   "metadata": {},
   "outputs": [],
   "source": [
    "val_pred = svclassifier.predict(val_data.iloc[:, 1:])"
   ]
  },
  {
   "cell_type": "code",
   "execution_count": 8,
   "metadata": {},
   "outputs": [
    {
     "name": "stdout",
     "output_type": "stream",
     "text": [
      "ROC score = 0.6593406593406593\n",
      "\n",
      "Classification Report:\n",
      "             precision    recall  f1-score   support\n",
      "\n",
      "      False       0.57      0.46      0.51        26\n",
      "       True       0.79      0.86      0.82        63\n",
      "\n",
      "avg / total       0.73      0.74      0.73        89\n",
      "\n",
      "\n",
      "Confusion Matrix:\n",
      "[[12 14]\n",
      " [ 9 54]]\n"
     ]
    }
   ],
   "source": [
    "from sklearn.metrics import classification_report, confusion_matrix, roc_auc_score\n",
    "\n",
    "print(\"ROC score = {}\".format(roc_auc_score(val_labels['IBD'], val_pred)))\n",
    "print(\"\\nClassification Report:\") \n",
    "print(classification_report(val_labels['IBD'], val_pred))\n",
    "print(\"\\nConfusion Matrix:\")\n",
    "print(confusion_matrix(val_labels['IBD'], val_pred))"
   ]
  },
  {
   "cell_type": "markdown",
   "metadata": {},
   "source": [
    "## Polynomial SVM, Degree 2"
   ]
  },
  {
   "cell_type": "code",
   "execution_count": 9,
   "metadata": {},
   "outputs": [
    {
     "name": "stdout",
     "output_type": "stream",
     "text": [
      "ROC score = 1.0\n",
      "\n",
      "Classification Report:\n",
      "             precision    recall  f1-score   support\n",
      "\n",
      "      False       1.00      1.00      1.00       187\n",
      "       True       1.00      1.00      1.00       525\n",
      "\n",
      "avg / total       1.00      1.00      1.00       712\n",
      "\n",
      "\n",
      "Confusion Matrix:\n",
      "[[187   0]\n",
      " [  0 525]]\n"
     ]
    }
   ],
   "source": [
    "sv2classifier = SVC(kernel='poly', degree=2)\n",
    "sv2classifier.fit(train_data.iloc[:, 1:], train_labels['IBD'])\n",
    "train2_pred = sv2classifier.predict(train_data.iloc[:, 1:])\n",
    "print(\"ROC score = {}\".format(roc_auc_score(train_labels['IBD'], train2_pred)))\n",
    "print(\"\\nClassification Report:\") \n",
    "print(classification_report(train_labels['IBD'], train2_pred))\n",
    "print(\"\\nConfusion Matrix:\")\n",
    "print(confusion_matrix(train_labels['IBD'], train2_pred))"
   ]
  },
  {
   "cell_type": "code",
   "execution_count": 10,
   "metadata": {},
   "outputs": [
    {
     "name": "stdout",
     "output_type": "stream",
     "text": [
      "ROC score = 0.6944444444444444\n",
      "\n",
      "Classification Report:\n",
      "             precision    recall  f1-score   support\n",
      "\n",
      "      False       0.65      0.50      0.57        26\n",
      "       True       0.81      0.89      0.85        63\n",
      "\n",
      "avg / total       0.76      0.78      0.77        89\n",
      "\n",
      "\n",
      "Confusion Matrix:\n",
      "[[13 13]\n",
      " [ 7 56]]\n"
     ]
    }
   ],
   "source": [
    "val2_pred = sv2classifier.predict(val_data.iloc[:, 1:])\n",
    "print(\"ROC score = {}\".format(roc_auc_score(val_labels['IBD'], val2_pred)))\n",
    "print(\"\\nClassification Report:\") \n",
    "print(classification_report(val_labels['IBD'], val2_pred))\n",
    "print(\"\\nConfusion Matrix:\")\n",
    "print(confusion_matrix(val_labels['IBD'], val2_pred))"
   ]
  },
  {
   "cell_type": "code",
   "execution_count": 11,
   "metadata": {},
   "outputs": [
    {
     "name": "stdout",
     "output_type": "stream",
     "text": [
      "ROC score = 0.7991525423728814\n",
      "\n",
      "Classification Report:\n",
      "             precision    recall  f1-score   support\n",
      "\n",
      "      False       0.78      0.70      0.74        30\n",
      "       True       0.85      0.90      0.88        59\n",
      "\n",
      "avg / total       0.83      0.83      0.83        89\n",
      "\n",
      "\n",
      "Confusion Matrix:\n",
      "[[21  9]\n",
      " [ 6 53]]\n"
     ]
    }
   ],
   "source": [
    "test2_pred = sv2classifier.predict(test_data.iloc[:, 1:])\n",
    "print(\"ROC score = {}\".format(roc_auc_score(test_labels['IBD'], test2_pred)))\n",
    "print(\"\\nClassification Report:\") \n",
    "print(classification_report(test_labels['IBD'], test2_pred))\n",
    "print(\"\\nConfusion Matrix:\")\n",
    "print(confusion_matrix(test_labels['IBD'], test2_pred))"
   ]
  },
  {
   "cell_type": "markdown",
   "metadata": {},
   "source": [
    "## PCA and SVD"
   ]
  },
  {
   "cell_type": "code",
   "execution_count": null,
   "metadata": {},
   "outputs": [],
   "source": [
    "from sklearn.preprocessing import StandardScaler\n",
    "scaler = StandardScaler()\n",
    "\n",
    "scaler.fit(train_data.iloc[:, 1:])\n",
    "\n",
    "scaled_train_data = scaler.transform(train_data.iloc[:, 1:])\n",
    "scaled_test_data = scaler.transform(test_data.iloc[:, 1:])\n",
    "\n",
    "from sklearn.decomposition import PCA, TruncatedSVD\n",
    "pca = PCA(10)\n",
    "svd = TruncatedSVD(10)\n",
    "\n",
    "pca_train_data = pca.fit_transform(train_data.iloc[:, 1:])\n",
    "pca_val_data = pca.transform(val_data.iloc[:, 1:])\n",
    "pca_test_data = pca.transform(test_data.iloc[:, 1:])\n",
    "\n",
    "svd_train_data = svd.fit_transform(train_data.iloc[:, 1:])\n",
    "svd_val_data = svd.transform(val_data.iloc[:, 1:])\n",
    "svd_test_data = svd.transform(test_data.iloc[:, 1:])\n",
    "\n",
    "sv2classifier.fit(pca_train_data, train_labels['IBD'])\n",
    "train2_pred_pca = sv2classifier.predict(pca_train_data)\n",
    "val2_pred_pca = sv2classifier.predict(pca_val_data)\n",
    "test2_pred_pca = sv2classifier.predict(pca_test_data)\n",
    "\n",
    "sv2classifier.fit(svd_train_data, train_labels['IBD'])\n",
    "train2_pred_svd = sv2classifier.predict(svd_train_data)\n",
    "val2_pred_svd = sv2classifier.predict(svd_val_data)\n",
    "test2_pred_svd = sv2classifier.predict(svd_test_data)"
   ]
  },
  {
   "cell_type": "markdown",
   "metadata": {},
   "source": [
    "## PCA Train:"
   ]
  },
  {
   "cell_type": "code",
   "execution_count": null,
   "metadata": {},
   "outputs": [],
   "source": [
    "print(\"ROC score = {}\".format(roc_auc_score(train_labels['IBD'], train2_pred_pca)))\n",
    "print(\"\\nClassification Report:\") \n",
    "print(classification_report(train_labels['IBD'], train2_pred_pca))\n",
    "print(\"\\nConfusion Matrix:\")\n",
    "print(confusion_matrix(train_labels['IBD'], train2_pred_pca))"
   ]
  },
  {
   "cell_type": "markdown",
   "metadata": {},
   "source": [
    "## PCA Val:"
   ]
  },
  {
   "cell_type": "code",
   "execution_count": null,
   "metadata": {},
   "outputs": [],
   "source": [
    "print(\"ROC score = {}\".format(roc_auc_score(val_labels['IBD'], val2_pred_pca)))\n",
    "print(\"\\nClassification Report:\") \n",
    "print(classification_report(val_labels['IBD'], val2_pred_pca))\n",
    "print(\"\\nConfusion Matrix:\")\n",
    "print(confusion_matrix(val_labels['IBD'], val2_pred_pca))"
   ]
  },
  {
   "cell_type": "markdown",
   "metadata": {},
   "source": [
    "## PCA Test:"
   ]
  },
  {
   "cell_type": "code",
   "execution_count": null,
   "metadata": {},
   "outputs": [],
   "source": [
    "print(\"ROC score = {}\".format(roc_auc_score(test_labels['IBD'], test2_pred_pca)))\n",
    "print(\"\\nClassification Report:\") \n",
    "print(classification_report(test_labels['IBD'], test2_pred_pca))\n",
    "print(\"\\nConfusion Matrix:\")\n",
    "print(confusion_matrix(test_labels['IBD'], test2_pred_pca))"
   ]
  },
  {
   "cell_type": "markdown",
   "metadata": {},
   "source": [
    "## SVD Train:"
   ]
  },
  {
   "cell_type": "code",
   "execution_count": null,
   "metadata": {
    "scrolled": true
   },
   "outputs": [],
   "source": [
    "print(\"ROC score = {}\".format(roc_auc_score(train_labels['IBD'], train2_pred_svd)))\n",
    "print(\"\\nClassification Report:\") \n",
    "print(classification_report(train_labels['IBD'], train2_pred_svd))\n",
    "print(\"\\nConfusion Matrix:\")\n",
    "print(confusion_matrix(train_labels['IBD'], train2_pred_svd))"
   ]
  },
  {
   "cell_type": "markdown",
   "metadata": {},
   "source": [
    "## SVD Val:"
   ]
  },
  {
   "cell_type": "code",
   "execution_count": null,
   "metadata": {},
   "outputs": [],
   "source": [
    "print(\"ROC score = {}\".format(roc_auc_score(val_labels['IBD'], val2_pred_svd)))\n",
    "print(\"\\nClassification Report:\") \n",
    "print(classification_report(val_labels['IBD'], val2_pred_svd))\n",
    "print(\"\\nConfusion Matrix:\")\n",
    "print(confusion_matrix(val_labels['IBD'], val2_pred_svd))"
   ]
  },
  {
   "cell_type": "markdown",
   "metadata": {},
   "source": [
    "## SVD Test:"
   ]
  },
  {
   "cell_type": "code",
   "execution_count": null,
   "metadata": {},
   "outputs": [],
   "source": [
    "print(\"ROC score = {}\".format(roc_auc_score(test_labels['IBD'], test2_pred_svd)))\n",
    "print(\"\\nClassification Report:\") \n",
    "print(classification_report(test_labels['IBD'], test2_pred_svd))\n",
    "print(\"\\nConfusion Matrix:\")\n",
    "print(confusion_matrix(test_labels['IBD'], test2_pred_svd))"
   ]
  }
 ],
 "metadata": {
  "kernelspec": {
   "display_name": "Python 3",
   "language": "python",
   "name": "python3"
  },
  "language_info": {
   "codemirror_mode": {
    "name": "ipython",
    "version": 3
   },
   "file_extension": ".py",
   "mimetype": "text/x-python",
   "name": "python",
   "nbconvert_exporter": "python",
   "pygments_lexer": "ipython3",
   "version": "3.7.2"
  }
 },
 "nbformat": 4,
 "nbformat_minor": 2
}
