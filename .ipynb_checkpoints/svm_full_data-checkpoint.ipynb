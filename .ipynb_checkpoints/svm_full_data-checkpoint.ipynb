{
 "cells": [
  {
   "cell_type": "code",
   "execution_count": 1,
   "metadata": {},
   "outputs": [],
   "source": [
    "import numpy as np\n",
    "import pandas as pd\n",
    "import matplotlib.pyplot as plt"
   ]
  },
  {
   "cell_type": "markdown",
   "metadata": {},
   "source": [
    "## Loading data:"
   ]
  },
  {
   "cell_type": "code",
   "execution_count": 2,
   "metadata": {},
   "outputs": [],
   "source": [
    "data = pd.read_csv('data/all_data.csv').T\n",
    "labels = pd.read_csv('data/labels.csv')"
   ]
  },
  {
   "cell_type": "markdown",
   "metadata": {},
   "source": [
    "## Preprocessing indexes:"
   ]
  },
  {
   "cell_type": "code",
   "execution_count": 3,
   "metadata": {},
   "outputs": [],
   "source": [
    "labels.drop('type_sample', axis=1, inplace=True)\n",
    "labels = labels.reset_index(drop=True)\n",
    "labels.rename(columns={ labels.columns[0]: \"Participant\" }, inplace=True)\n",
    "labels.IBD = labels.IBD.astype('bool')\n",
    "\n",
    "data = data.reset_index()\n",
    "data.columns = data.iloc[0]\n",
    "data = data.iloc[1:]\n",
    "data = data.reset_index(drop=True)\n",
    "data.rename(columns={ data.columns[0]: \"Participant\" }, inplace=True)"
   ]
  },
  {
   "cell_type": "markdown",
   "metadata": {},
   "source": [
    "## Train Val Test split:"
   ]
  },
  {
   "cell_type": "code",
   "execution_count": 4,
   "metadata": {},
   "outputs": [],
   "source": [
    "def split_data(data, seed = 43, train_val_test_split = (80,10,10)):\n",
    "    indices = np.arange(len(data))\n",
    "    np.random.seed(seed)\n",
    "    np.random.shuffle(indices)\n",
    "    train_indices = indices[:train_val_test_split[0]*len(indices)//100]\n",
    "    val_indices = indices[train_val_test_split[0]*len(indices)//100:train_val_test_split[0]*len(indices)//100\\\n",
    "                          + train_val_test_split[1]*len(indices)//100]\n",
    "    test_indices = indices[train_val_test_split[0]*len(indices)//100+ train_val_test_split[1]*len(indices)//100:]\n",
    "    \n",
    "    return data.iloc[train_indices], data.iloc[val_indices], data.iloc[test_indices]"
   ]
  },
  {
   "cell_type": "code",
   "execution_count": 5,
   "metadata": {},
   "outputs": [],
   "source": [
    "train_data, val_data, test_data = split_data(data)\n",
    "train_labels, val_labels, test_labels = split_data(labels)"
   ]
  },
  {
   "cell_type": "markdown",
   "metadata": {},
   "source": [
    "## Linear SVM "
   ]
  },
  {
   "cell_type": "code",
   "execution_count": 6,
   "metadata": {},
   "outputs": [
    {
     "data": {
      "text/plain": [
       "SVC(C=1.0, cache_size=200, class_weight=None, coef0=0.0,\n",
       "  decision_function_shape='ovr', degree=3, gamma='auto', kernel='linear',\n",
       "  max_iter=-1, probability=False, random_state=None, shrinking=True,\n",
       "  tol=0.001, verbose=False)"
      ]
     },
     "execution_count": 6,
     "metadata": {},
     "output_type": "execute_result"
    }
   ],
   "source": [
    "from sklearn.svm import SVC\n",
    "\n",
    "svclassifier = SVC(kernel='linear')\n",
    "svclassifier.fit(train_data.iloc[:, 1:], train_labels['IBD'])"
   ]
  },
  {
   "cell_type": "code",
   "execution_count": 7,
   "metadata": {},
   "outputs": [],
   "source": [
    "test_pred = svclassifier.predict(test_data.iloc[:, 1:])"
   ]
  },
  {
   "cell_type": "code",
   "execution_count": 8,
   "metadata": {},
   "outputs": [
    {
     "name": "stdout",
     "output_type": "stream",
     "text": [
      "ROC score = 0.698587570621469\n",
      "\n",
      "Classification Report:\n",
      "             precision    recall  f1-score   support\n",
      "\n",
      "      False       0.63      0.57      0.60        30\n",
      "       True       0.79      0.83      0.81        59\n",
      "\n",
      "avg / total       0.74      0.74      0.74        89\n",
      "\n",
      "\n",
      "Confusion Matrix:\n",
      "[[17 13]\n",
      " [10 49]]\n"
     ]
    }
   ],
   "source": [
    "from sklearn.metrics import classification_report, confusion_matrix, roc_auc_score\n",
    "\n",
    "print(\"ROC score = {}\".format(roc_auc_score(test_labels['IBD'], test_pred)))\n",
    "print(\"\\nClassification Report:\") \n",
    "print(classification_report(test_labels['IBD'], test_pred))\n",
    "print(\"\\nConfusion Matrix:\")\n",
    "print(confusion_matrix(test_labels['IBD'], test_pred))"
   ]
  },
  {
   "cell_type": "markdown",
   "metadata": {},
   "source": [
    "## Polynomial SVM, Degree 2"
   ]
  },
  {
   "cell_type": "code",
   "execution_count": 9,
   "metadata": {},
   "outputs": [
    {
     "data": {
      "text/plain": [
       "SVC(C=1.0, cache_size=200, class_weight=None, coef0=0.0,\n",
       "  decision_function_shape='ovr', degree=2, gamma='auto', kernel='poly',\n",
       "  max_iter=-1, probability=False, random_state=None, shrinking=True,\n",
       "  tol=0.001, verbose=False)"
      ]
     },
     "execution_count": 9,
     "metadata": {},
     "output_type": "execute_result"
    }
   ],
   "source": [
    "sv2classifier = SVC(kernel='poly', degree=2)\n",
    "sv2classifier.fit(train_data.iloc[:, 1:], train_labels['IBD'])"
   ]
  },
  {
   "cell_type": "code",
   "execution_count": 10,
   "metadata": {},
   "outputs": [],
   "source": [
    "test2_pred = sv2classifier.predict(test_data.iloc[:, 1:])"
   ]
  },
  {
   "cell_type": "code",
   "execution_count": 11,
   "metadata": {},
   "outputs": [
    {
     "name": "stdout",
     "output_type": "stream",
     "text": [
      "ROC score = 0.7991525423728814\n",
      "\n",
      "Classification Report:\n",
      "             precision    recall  f1-score   support\n",
      "\n",
      "      False       0.78      0.70      0.74        30\n",
      "       True       0.85      0.90      0.88        59\n",
      "\n",
      "avg / total       0.83      0.83      0.83        89\n",
      "\n",
      "\n",
      "Confusion Matrix:\n",
      "[[21  9]\n",
      " [ 6 53]]\n"
     ]
    }
   ],
   "source": [
    "print(\"ROC score = {}\".format(roc_auc_score(test_labels['IBD'], test2_pred)))\n",
    "print(\"\\nClassification Report:\") \n",
    "print(classification_report(test_labels['IBD'], test2_pred))\n",
    "print(\"\\nConfusion Matrix:\")\n",
    "print(confusion_matrix(test_labels['IBD'], test2_pred))"
   ]
  }
 ],
 "metadata": {
  "kernelspec": {
   "display_name": "Python 3",
   "language": "python",
   "name": "python3"
  },
  "language_info": {
   "codemirror_mode": {
    "name": "ipython",
    "version": 3
   },
   "file_extension": ".py",
   "mimetype": "text/x-python",
   "name": "python",
   "nbconvert_exporter": "python",
   "pygments_lexer": "ipython3",
   "version": "3.6.3"
  }
 },
 "nbformat": 4,
 "nbformat_minor": 2
}
