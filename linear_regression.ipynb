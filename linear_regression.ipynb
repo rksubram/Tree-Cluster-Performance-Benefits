{
 "cells": [
  {
   "cell_type": "code",
   "execution_count": 488,
   "metadata": {},
   "outputs": [],
   "source": [
    "import numpy as np\n",
    "import pandas as pd\n",
    "import matplotlib.pyplot as plt"
   ]
  },
  {
   "cell_type": "markdown",
   "metadata": {},
   "source": [
    "## Loading data:"
   ]
  },
  {
   "cell_type": "code",
   "execution_count": 489,
   "metadata": {},
   "outputs": [],
   "source": [
    "data = pd.read_csv('data/all_data.csv').T\n",
    "labels = pd.read_csv('data/labels.csv')"
   ]
  },
  {
   "cell_type": "markdown",
   "metadata": {},
   "source": [
    "## Preprocessing indexes:"
   ]
  },
  {
   "cell_type": "code",
   "execution_count": 490,
   "metadata": {},
   "outputs": [],
   "source": [
    "labels.drop('type_sample', axis=1, inplace=True)\n",
    "labels = labels.reset_index(drop=True)\n",
    "labels.rename(columns={ labels.columns[0]: \"Participant\" }, inplace=True)\n",
    "labels.IBD = labels.IBD.astype('bool')\n",
    "\n",
    "data = data.reset_index()\n",
    "data.columns = data.iloc[0]\n",
    "data = data.iloc[1:]\n",
    "data = data.reset_index(drop=True)\n",
    "data.rename(columns={ data.columns[0]: \"Participant\" }, inplace=True)"
   ]
  },
  {
   "cell_type": "code",
   "execution_count": 492,
   "metadata": {},
   "outputs": [],
   "source": [
    "def split_data(data, seed = 43, train_val_test_split = (80,10,10)):\n",
    "    indices = np.arange(len(data))\n",
    "    np.random.seed(seed)\n",
    "    np.random.shuffle(indices)\n",
    "    train_indices = indices[:train_val_test_split[0]*len(indices)//100]\n",
    "    val_indices = indices[train_val_test_split[0]*len(indices)//100:train_val_test_split[0]*len(indices)//100\\\n",
    "                          + train_val_test_split[1]*len(indices)//100]\n",
    "    test_indices = indices[train_val_test_split[0]*len(indices)//100+ train_val_test_split[1]*len(indices)//100:]\n",
    "    \n",
    "    return data.iloc[train_indices], data.iloc[val_indices], data.iloc[test_indices]"
   ]
  },
  {
   "cell_type": "code",
   "execution_count": 493,
   "metadata": {},
   "outputs": [],
   "source": [
    "train_data, val_data, test_data = split_data(data)\n",
    "train_labels, val_labels, test_labels = split_data(labels)"
   ]
  },
  {
   "cell_type": "code",
   "execution_count": 494,
   "metadata": {},
   "outputs": [],
   "source": [
    "from sklearn.decomposition import PCA, TruncatedSVD"
   ]
  },
  {
   "cell_type": "code",
   "execution_count": 511,
   "metadata": {},
   "outputs": [],
   "source": [
    "pca = PCA(10)\n",
    "svd = TruncatedSVD(10)\n",
    "\n",
    "svd.fit(train_data.iloc[:, 1:])\n",
    "svd_train_data = svd.transform(train_data.iloc[:, 1:])\n",
    "svd_val_data = svd.transform(val_data.iloc[:, 1:])\n",
    "svd_test_data = svd.transform(test_data.iloc[:, 1:])\n",
    "\n",
    "pca.fit(train_data.iloc[:, 1:])\n",
    "\n",
    "pca_train_data = pca.transform(train_data.iloc[:, 1:])\n",
    "pca_val_data = pca.transform(val_data.iloc[:, 1:])\n",
    "pca_test_data = pca.transform(test_data.iloc[:, 1:])\n"
   ]
  },
  {
   "cell_type": "code",
   "execution_count": 512,
   "metadata": {
    "scrolled": false
   },
   "outputs": [
    {
     "name": "stdout",
     "output_type": "stream",
     "text": [
      "Training accuracy:  0.738764044944\n",
      "Validation accuracy:  0.707865168539\n",
      "Training Statistics\n",
      "ROC score = 0.5181665393430099\n",
      "\n",
      "Classification Report:\n",
      "             precision    recall  f1-score   support\n",
      "\n",
      "      False       0.53      0.05      0.10       187\n",
      "       True       0.74      0.98      0.85       525\n",
      "\n",
      "avg / total       0.69      0.74      0.65       712\n",
      "\n",
      "\n",
      "Confusion Matrix:\n",
      "[[ 10 177]\n",
      " [  9 516]]\n",
      "\n",
      "\n",
      "Validation Statistics\n",
      "ROC score = 0.5112942612942613\n",
      "\n",
      "Classification Report:\n",
      "             precision    recall  f1-score   support\n",
      "\n",
      "      False       0.50      0.04      0.07        26\n",
      "       True       0.71      0.98      0.83        63\n",
      "\n",
      "avg / total       0.65      0.71      0.61        89\n",
      "\n",
      "\n",
      "Confusion Matrix:\n",
      "[[ 1 25]\n",
      " [ 1 62]]\n",
      "Training accuracy:  0.738764044944\n",
      "Validation accuracy:  0.674157303371\n",
      "Training Statistics\n",
      "ROC score = 0.5181665393430099\n",
      "\n",
      "Classification Report:\n",
      "             precision    recall  f1-score   support\n",
      "\n",
      "      False       0.53      0.05      0.10       187\n",
      "       True       0.74      0.98      0.85       525\n",
      "\n",
      "avg / total       0.69      0.74      0.65       712\n",
      "\n",
      "\n",
      "Confusion Matrix:\n",
      "[[ 10 177]\n",
      " [  9 516]]\n",
      "\n",
      "\n",
      "Validation Statistics\n",
      "ROC score = 0.5166666666666666\n",
      "\n",
      "Classification Report:\n",
      "             precision    recall  f1-score   support\n",
      "\n",
      "      False       1.00      0.03      0.06        30\n",
      "       True       0.67      1.00      0.80        59\n",
      "\n",
      "avg / total       0.78      0.67      0.55        89\n",
      "\n",
      "\n",
      "Confusion Matrix:\n",
      "[[ 1 29]\n",
      " [ 0 59]]\n"
     ]
    },
    {
     "data": {
      "text/plain": [
       "(0.7387640449438202, 0.6741573033707865)"
      ]
     },
     "execution_count": 512,
     "metadata": {},
     "output_type": "execute_result"
    }
   ],
   "source": [
    "logreg((svd_train_data,svd_val_data), (train_labels, val_labels), weight = 1, print_stats = True)\n",
    "logreg((svd_train_data,svd_test_data), (train_labels, test_labels), weight = 1, print_stats = True)\n"
   ]
  },
  {
   "cell_type": "code",
   "execution_count": 513,
   "metadata": {
    "scrolled": false
   },
   "outputs": [
    {
     "name": "stdout",
     "output_type": "stream",
     "text": [
      "Training accuracy:  0.740168539326\n",
      "Validation accuracy:  0.719101123596\n",
      "Training Statistics\n",
      "ROC score = 0.5208403361344538\n",
      "\n",
      "Classification Report:\n",
      "             precision    recall  f1-score   support\n",
      "\n",
      "      False       0.55      0.06      0.11       187\n",
      "       True       0.75      0.98      0.85       525\n",
      "\n",
      "avg / total       0.69      0.74      0.65       712\n",
      "\n",
      "\n",
      "Confusion Matrix:\n",
      "[[ 11 176]\n",
      " [  9 516]]\n",
      "\n",
      "\n",
      "Validation Statistics\n",
      "ROC score = 0.5305250305250304\n",
      "\n",
      "Classification Report:\n",
      "             precision    recall  f1-score   support\n",
      "\n",
      "      False       0.67      0.08      0.14        26\n",
      "       True       0.72      0.98      0.83        63\n",
      "\n",
      "avg / total       0.71      0.72      0.63        89\n",
      "\n",
      "\n",
      "Confusion Matrix:\n",
      "[[ 2 24]\n",
      " [ 1 62]]\n",
      "Training accuracy:  0.740168539326\n",
      "Validation accuracy:  0.674157303371\n",
      "Training Statistics\n",
      "ROC score = 0.5208403361344538\n",
      "\n",
      "Classification Report:\n",
      "             precision    recall  f1-score   support\n",
      "\n",
      "      False       0.55      0.06      0.11       187\n",
      "       True       0.75      0.98      0.85       525\n",
      "\n",
      "avg / total       0.69      0.74      0.65       712\n",
      "\n",
      "\n",
      "Confusion Matrix:\n",
      "[[ 11 176]\n",
      " [  9 516]]\n",
      "\n",
      "\n",
      "Validation Statistics\n",
      "ROC score = 0.5166666666666666\n",
      "\n",
      "Classification Report:\n",
      "             precision    recall  f1-score   support\n",
      "\n",
      "      False       1.00      0.03      0.06        30\n",
      "       True       0.67      1.00      0.80        59\n",
      "\n",
      "avg / total       0.78      0.67      0.55        89\n",
      "\n",
      "\n",
      "Confusion Matrix:\n",
      "[[ 1 29]\n",
      " [ 0 59]]\n"
     ]
    },
    {
     "data": {
      "text/plain": [
       "(0.7401685393258427, 0.6741573033707865)"
      ]
     },
     "execution_count": 513,
     "metadata": {},
     "output_type": "execute_result"
    }
   ],
   "source": [
    "logreg((pca_train_data,pca_val_data), (train_labels, val_labels), weight = 1, print_stats = True)\n",
    "logreg((pca_train_data,pca_test_data), (train_labels, test_labels), weight = 1, print_stats = True)"
   ]
  },
  {
   "cell_type": "markdown",
   "metadata": {},
   "source": [
    "## Logistic Regression"
   ]
  },
  {
   "cell_type": "code",
   "execution_count": 54,
   "metadata": {},
   "outputs": [],
   "source": [
    "def logreg(my_data, labels, weight = 1, print_stats = True):\n",
    "    \n",
    "    from sklearn.linear_model import LogisticRegression\n",
    "    from sklearn.metrics import classification_report, confusion_matrix, roc_auc_score\n",
    "\n",
    "    clf = LogisticRegression(C = weight, random_state=0, solver='liblinear',\\\n",
    "                         multi_class='ovr').fit(my_data[0], labels[0]['IBD'])\n",
    "    train_acc = clf.score(my_data[0], labels[0]['IBD'])\n",
    "    val_acc = clf.score(my_data[1], labels[1]['IBD'])\n",
    "    \n",
    "    if print_stats:\n",
    "        print('Training accuracy: ', train_acc)\n",
    "        print('Validation accuracy: ',val_acc)\n",
    "        \n",
    "        train_pred = clf.predict(my_data[0])\n",
    "        val_pred = clf.predict(my_data[1])\n",
    "\n",
    "        print(\"Training Statistics\")\n",
    "        print(\"ROC score = {}\".format(roc_auc_score(labels[0]['IBD'], train_pred)))\n",
    "        print(\"\\nClassification Report:\") \n",
    "        print(classification_report(labels[0]['IBD'], train_pred))\n",
    "        print(\"\\nConfusion Matrix:\")\n",
    "        print(confusion_matrix(labels[0]['IBD'], train_pred))\n",
    "        print(\"\")\n",
    "        print(\"\")\n",
    "        print(\"Validation Statistics\")\n",
    "        print(\"ROC score = {}\".format(roc_auc_score(labels[1]['IBD'], val_pred)))\n",
    "        print(\"\\nClassification Report:\") \n",
    "        print(classification_report(labels[1]['IBD'], val_pred))\n",
    "        print(\"\\nConfusion Matrix:\")\n",
    "        print(confusion_matrix(labels[1]['IBD'], val_pred))\n",
    "    \n",
    "    return train_acc, val_acc\n",
    "    \n",
    "\n",
    "\n",
    "    \n",
    "# clf = LogisticRegression(C = 1, random_state=0, solver='liblinear',\\\n",
    "#                          multi_class='ovr').fit(train_data.iloc[:, 1:], train_labels['IBD'])\n"
   ]
  },
  {
   "cell_type": "code",
   "execution_count": 7,
   "metadata": {},
   "outputs": [
    {
     "name": "stdout",
     "output_type": "stream",
     "text": [
      "Training accuracy:  1.0\n",
      "Validation accuracy:  0.730337078652\n",
      "Training Statistics\n",
      "ROC score = 1.0\n",
      "\n",
      "Classification Report:\n",
      "             precision    recall  f1-score   support\n",
      "\n",
      "      False       1.00      1.00      1.00       187\n",
      "       True       1.00      1.00      1.00       525\n",
      "\n",
      "avg / total       1.00      1.00      1.00       712\n",
      "\n",
      "\n",
      "Confusion Matrix:\n",
      "[[187   0]\n",
      " [  0 525]]\n",
      "\n",
      "\n",
      "Validation Statistics\n",
      "ROC score = 0.6514041514041514\n",
      "\n",
      "Classification Report:\n",
      "             precision    recall  f1-score   support\n",
      "\n",
      "      False       0.55      0.46      0.50        26\n",
      "       True       0.79      0.84      0.82        63\n",
      "\n",
      "avg / total       0.72      0.73      0.72        89\n",
      "\n",
      "\n",
      "Confusion Matrix:\n",
      "[[12 14]\n",
      " [10 53]]\n"
     ]
    },
    {
     "data": {
      "text/plain": [
       "(1.0, 0.7303370786516854)"
      ]
     },
     "execution_count": 7,
     "metadata": {},
     "output_type": "execute_result"
    }
   ],
   "source": [
    "logreg((train_data.iloc[:,1:],val_data.iloc[:,1:]), (train_labels, val_labels))"
   ]
  },
  {
   "cell_type": "code",
   "execution_count": 514,
   "metadata": {},
   "outputs": [],
   "source": [
    "train_accuracy = []\n",
    "val_accuracy = []\n",
    "\n",
    "for i in range(11):\n",
    "    weight = 1/(10**i)\n",
    "    t,v = logreg((train_data.iloc[:,1:],val_data.iloc[:,1:]), (train_labels, val_labels), weight, False)\n",
    "    train_accuracy.append(t)\n",
    "    val_accuracy.append(v)\n"
   ]
  },
  {
   "cell_type": "code",
   "execution_count": 516,
   "metadata": {
    "scrolled": false
   },
   "outputs": [
    {
     "data": {
      "text/plain": [
       "[Text(0,0.5,'Accuracy'), Text(0.5,0,'Regularization Strength')]"
      ]
     },
     "execution_count": 516,
     "metadata": {},
     "output_type": "execute_result"
    },
    {
     "data": {
      "image/png": "[encoded data removed]",
      "text/plain": [
       "<matplotlib.figure.Figure at 0x2e3e4f8f358>"
      ]
     },
     "metadata": {},
     "output_type": "display_data"
    }
   ],
   "source": [
    "plt.rcParams[\"figure.figsize\"] = (10,5)\n",
    "import seaborn as sns\n",
    "sns.set(style=\"darkgrid\")\n",
    "ax = sns.lineplot(list(range(11)),train_accuracy, label = 'train')\n",
    "sns.lineplot(list(range(11)),val_accuracy, label = 'validation')\n",
    "ax.set(xlabel='Regularization Strength', ylabel='Accuracy')\n"
   ]
  },
  {
   "cell_type": "code",
   "execution_count": 80,
   "metadata": {},
   "outputs": [],
   "source": [
    "# def feature_correlation(data):\n",
    "#     data = data[data.columns[1:]].reset_index()[data.columns[1:]].astype(float)\n",
    "#     data.columns = np.arange(data.shape[1])\n",
    "#     return data.corr()"
   ]
  },
  {
   "cell_type": "code",
   "execution_count": 24,
   "metadata": {},
   "outputs": [],
   "source": [
    "fasta_file = 'dna-fragments.fasta'\n",
    "\n",
    "fasta_dict = dict()\n",
    "\n",
    "with open(fasta_file) as file:\n",
    "    for i, line in enumerate(file):\n",
    "        if i%2 == 0:\n",
    "            fragment = line[1:-1]\n",
    "        else:\n",
    "            fasta_dict[fragment] = line[:-1]\n",
    "\n",
    "np.save('fasta_dict.npy', fasta_dict)"
   ]
  },
  {
   "cell_type": "code",
   "execution_count": null,
   "metadata": {},
   "outputs": [],
   "source": [
    "# max, sum_branch, single_linkage"
   ]
  },
  {
   "cell_type": "code",
   "execution_count": 471,
   "metadata": {
    "scrolled": true
   },
   "outputs": [],
   "source": [
    "#clusters\n",
    "fasta_dict = np.load('fasta_dict.npy').item()\n",
    "\n",
    "cluster_file = './treeclust_ops/clusters_max_10.csv'\n",
    "clusters = pd.read_csv(cluster_file, sep='\\t')\n",
    "\n",
    "total_clusters = np.max(clusters['ClusterNumber'])\n",
    "\n",
    "clustered_data = []\n",
    "cluster_size = [0]\n",
    "\n",
    "for i in range(1,total_clusters+1):\n",
    "    cluster_size.append(cluster_size[i-1]+len(clusters[clusters['ClusterNumber'] == i]))\n",
    "    clustered_data.append(data[[fasta_dict[c] for c in clusters[clusters['ClusterNumber'] == i]['SequenceName'].values]])\n",
    "    \n",
    "    \n",
    "\n",
    "single_data = data[[fasta_dict[c] for c in clusters[clusters['ClusterNumber'] == -1]['SequenceName'].values]]\n"
   ]
  },
  {
   "cell_type": "code",
   "execution_count": 472,
   "metadata": {},
   "outputs": [
    {
     "data": {
      "text/plain": [
       "(890, 10081)"
      ]
     },
     "execution_count": 472,
     "metadata": {},
     "output_type": "execute_result"
    }
   ],
   "source": [
    "data.shape"
   ]
  },
  {
   "cell_type": "code",
   "execution_count": 473,
   "metadata": {},
   "outputs": [
    {
     "name": "stdout",
     "output_type": "stream",
     "text": [
      "10\n"
     ]
    },
    {
     "data": {
      "text/plain": [
       "0"
      ]
     },
     "execution_count": 473,
     "metadata": {},
     "output_type": "execute_result"
    }
   ],
   "source": [
    "print(total_clusters)\n",
    "single_data.shape[1]"
   ]
  },
  {
   "cell_type": "code",
   "execution_count": 474,
   "metadata": {},
   "outputs": [],
   "source": [
    "clustered_data.append(single_data)\n",
    "cluster_size += list(range(cluster_size[-1],single_data.shape[1]+cluster_size[-1]))"
   ]
  },
  {
   "cell_type": "code",
   "execution_count": 475,
   "metadata": {},
   "outputs": [],
   "source": [
    "clustered_data = pd.concat(clustered_data, axis = 1)"
   ]
  },
  {
   "cell_type": "code",
   "execution_count": 476,
   "metadata": {},
   "outputs": [
    {
     "data": {
      "text/plain": [
       "(890, 10072)"
      ]
     },
     "execution_count": 476,
     "metadata": {},
     "output_type": "execute_result"
    }
   ],
   "source": [
    "clustered_data.shape"
   ]
  },
  {
   "cell_type": "code",
   "execution_count": 477,
   "metadata": {},
   "outputs": [],
   "source": [
    "train_data, val_data, test_data = split_data(clustered_data)\n",
    "train_labels, val_labels, test_labels = split_data(labels)"
   ]
  },
  {
   "cell_type": "markdown",
   "metadata": {},
   "source": [
    "## PCA"
   ]
  },
  {
   "cell_type": "markdown",
   "metadata": {},
   "source": [
    "## Standardization\n"
   ]
  },
  {
   "cell_type": "code",
   "execution_count": 478,
   "metadata": {},
   "outputs": [],
   "source": [
    "from sklearn.preprocessing import StandardScaler\n",
    "scalar = StandardScaler()\n",
    "scalar.fit(train_data)\n",
    "\n",
    "train_norm = scalar.transform(train_data)\n",
    "val_norm = scalar.transform(val_data)\n",
    "test_norm = scalar.transform(test_data)\n",
    "# train_norm = train_data\n",
    "# val_norm = val_data\n",
    "# test_norm = test_data"
   ]
  },
  {
   "cell_type": "code",
   "execution_count": 479,
   "metadata": {},
   "outputs": [],
   "source": [
    "# variance to account for\n",
    "\n",
    "variance = 0.95\n",
    "from sklearn.decomposition import PCA\n",
    "# Make an instance of the Model\n",
    "pca = PCA(n_components = 1)\n",
    "# pca.fit(train_norm)"
   ]
  },
  {
   "cell_type": "code",
   "execution_count": 480,
   "metadata": {},
   "outputs": [
    {
     "data": {
      "text/plain": [
       "(712, 10072)"
      ]
     },
     "execution_count": 480,
     "metadata": {},
     "output_type": "execute_result"
    }
   ],
   "source": [
    "train_norm.shape"
   ]
  },
  {
   "cell_type": "code",
   "execution_count": 481,
   "metadata": {},
   "outputs": [
    {
     "name": "stdout",
     "output_type": "stream",
     "text": [
      "1\n",
      "2\n",
      "3\n",
      "4\n",
      "5\n",
      "6\n",
      "7\n",
      "8\n",
      "9\n",
      "10\n"
     ]
    }
   ],
   "source": [
    "for i in range(1,len(cluster_size)):\n",
    "    \n",
    "    try:\n",
    "        pca.fit(train_norm[:,cluster_size[i-1]:cluster_size[i]])\n",
    "    except:\n",
    "        continue\n",
    "    print(i)\n",
    "    if i ==1:\n",
    "        pca_train_norm = pca.transform(train_norm[:,cluster_size[i-1]:cluster_size[i]])\n",
    "        pca_val_norm = pca.transform(val_norm[:,cluster_size[i-1]:cluster_size[i]])\n",
    "        pca_test_norm = pca.transform(test_norm[:,cluster_size[i-1]:cluster_size[i]])\n",
    "    else:\n",
    "        pca_train_norm = np.hstack((pca_train_norm, pca.transform(train_norm[:,cluster_size[i-1]:cluster_size[i]])))\n",
    "        pca_val_norm = np.hstack((pca_val_norm, pca.transform(val_norm[:,cluster_size[i-1]:cluster_size[i]])))\n",
    "        pca_test_norm = np.hstack((pca_test_norm, pca.transform(test_norm[:,cluster_size[i-1]:cluster_size[i]])))\n",
    "#     pca_train_norm.append(pca.transform(train_norm[:,cluster_size[i-1]:cluster_size[i]]))\n",
    "#     pca_val_norm.append(pca.transform(val_norm[:,cluster_size[i-1]:cluster_size[i]]))\n",
    "#     pca_test_norm.append(pca.transform(test_norm[:,cluster_size[i-1]:cluster_size[i]]))"
   ]
  },
  {
   "cell_type": "code",
   "execution_count": 482,
   "metadata": {},
   "outputs": [],
   "source": [
    "# 500, 100, 50, 25, 10"
   ]
  },
  {
   "cell_type": "code",
   "execution_count": 483,
   "metadata": {},
   "outputs": [],
   "source": [
    "# print(\"Number of feature vectors: \",pca.n_components_)"
   ]
  },
  {
   "cell_type": "code",
   "execution_count": 484,
   "metadata": {},
   "outputs": [],
   "source": [
    "# pca_train_norm = pca.transform(train_norm)\n",
    "# pca_val_norm = pca.transform(val_norm)\n",
    "# pca_test_norm = pca.transform(test_norm)"
   ]
  },
  {
   "cell_type": "code",
   "execution_count": 485,
   "metadata": {
    "scrolled": false
   },
   "outputs": [
    {
     "name": "stdout",
     "output_type": "stream",
     "text": [
      "Training accuracy:  0.744382022472\n",
      "Validation accuracy:  0.696629213483\n",
      "Training Statistics\n",
      "ROC score = 0.5150903997962822\n",
      "\n",
      "Classification Report:\n",
      "             precision    recall  f1-score   support\n",
      "\n",
      "      False       0.86      0.03      0.06       187\n",
      "       True       0.74      1.00      0.85       525\n",
      "\n",
      "avg / total       0.77      0.74      0.64       712\n",
      "\n",
      "\n",
      "Confusion Matrix:\n",
      "[[  6 181]\n",
      " [  1 524]]\n",
      "\n",
      "\n",
      "Validation Statistics\n",
      "ROC score = 0.5033577533577533\n",
      "\n",
      "Classification Report:\n",
      "             precision    recall  f1-score   support\n",
      "\n",
      "      False       0.33      0.04      0.07        26\n",
      "       True       0.71      0.97      0.82        63\n",
      "\n",
      "avg / total       0.60      0.70      0.60        89\n",
      "\n",
      "\n",
      "Confusion Matrix:\n",
      "[[ 1 25]\n",
      " [ 2 61]]\n"
     ]
    },
    {
     "data": {
      "text/plain": [
       "(0.7443820224719101, 0.6966292134831461)"
      ]
     },
     "execution_count": 485,
     "metadata": {},
     "output_type": "execute_result"
    }
   ],
   "source": [
    "# clf = LogisticRegression(C = 1, random_state=0, solver='liblinear',\\\n",
    "#                          multi_class='ovr').fit(train_data.iloc[:, 1:], train_labels['IBD'])\n",
    "\n",
    "logreg((pca_train_norm,pca_val_norm), (train_labels, val_labels))"
   ]
  },
  {
   "cell_type": "code",
   "execution_count": 486,
   "metadata": {
    "scrolled": false
   },
   "outputs": [
    {
     "name": "stdout",
     "output_type": "stream",
     "text": [
      "Training accuracy:  0.744382022472\n",
      "Validation accuracy:  0.640449438202\n",
      "Training Statistics\n",
      "ROC score = 0.5150903997962822\n",
      "\n",
      "Classification Report:\n",
      "             precision    recall  f1-score   support\n",
      "\n",
      "      False       0.86      0.03      0.06       187\n",
      "       True       0.74      1.00      0.85       525\n",
      "\n",
      "avg / total       0.77      0.74      0.64       712\n",
      "\n",
      "\n",
      "Confusion Matrix:\n",
      "[[  6 181]\n",
      " [  1 524]]\n",
      "\n",
      "\n",
      "Validation Statistics\n",
      "ROC score = 0.4830508474576271\n",
      "\n",
      "Classification Report:\n",
      "             precision    recall  f1-score   support\n",
      "\n",
      "      False       0.00      0.00      0.00        30\n",
      "       True       0.66      0.97      0.78        59\n",
      "\n",
      "avg / total       0.43      0.64      0.52        89\n",
      "\n",
      "\n",
      "Confusion Matrix:\n",
      "[[ 0 30]\n",
      " [ 2 57]]\n"
     ]
    },
    {
     "data": {
      "text/plain": [
       "(0.7443820224719101, 0.6404494382022472)"
      ]
     },
     "execution_count": 486,
     "metadata": {},
     "output_type": "execute_result"
    }
   ],
   "source": [
    "logreg((pca_train_norm,pca_test_norm), (train_labels, test_labels))"
   ]
  },
  {
   "cell_type": "code",
   "execution_count": 487,
   "metadata": {},
   "outputs": [
    {
     "data": {
      "text/plain": [
       "(712, 10)"
      ]
     },
     "execution_count": 487,
     "metadata": {},
     "output_type": "execute_result"
    }
   ],
   "source": [
    "pca_train_norm.shape"
   ]
  },
  {
   "cell_type": "code",
   "execution_count": null,
   "metadata": {},
   "outputs": [],
   "source": []
  }
 ],
 "metadata": {
  "kernelspec": {
   "display_name": "Python 3",
   "language": "python",
   "name": "python3"
  },
  "language_info": {
   "codemirror_mode": {
    "name": "ipython",
    "version": 3
   },
   "file_extension": ".py",
   "mimetype": "text/x-python",
   "name": "python",
   "nbconvert_exporter": "python",
   "pygments_lexer": "ipython3",
   "version": "3.6.3"
  }
 },
 "nbformat": 4,
 "nbformat_minor": 2
}
